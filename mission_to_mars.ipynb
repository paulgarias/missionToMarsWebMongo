{
 "cells": [
  {
   "cell_type": "code",
   "execution_count": 1,
   "metadata": {},
   "outputs": [],
   "source": [
    "from bs4 import BeautifulSoup\n",
    "from selenium import webdriver\n",
    "from splinter import Browser\n",
    "import time\n",
    "import pandas as pd\n",
    "import json"
   ]
  },
  {
   "cell_type": "code",
   "execution_count": 2,
   "metadata": {},
   "outputs": [
    {
     "name": "stderr",
     "output_type": "stream",
     "text": [
      "/Users/pgarias/Desktop/RutgersDataScienceBootcamp/python_environments/python3webscrapting/lib/python3.6/site-packages/selenium/webdriver/phantomjs/webdriver.py:49: UserWarning: Selenium support for PhantomJS has been deprecated, please use headless versions of Chrome or Firefox instead\n",
      "  warnings.warn('Selenium support for PhantomJS has been deprecated, please use headless '\n"
     ]
    }
   ],
   "source": [
    "\n",
    "\n",
    "url = \"https://mars.nasa.gov/news/?page=0&per_page=40&order=publish_date+desc%2Ccreated_at+desc&search=&category=19%2C165%2C184%2C204&blank_scope=Latest\"\n",
    "browser = webdriver.PhantomJS(executable_path='/Users/pgarias/Downloads/phantomjs-2.1.1-macosx/bin/phantomJS')\n",
    "browser.get(url)\n",
    "html = browser.page_source\n",
    "soup = BeautifulSoup(html, 'html.parser')\n",
    "\n"
   ]
  },
  {
   "cell_type": "markdown",
   "metadata": {},
   "source": [
    "### NASA Mars News"
   ]
  },
  {
   "cell_type": "markdown",
   "metadata": {},
   "source": [
    "* Scrape the [NASA Mars News Site](https://mars.nasa.gov/news/) and collect the latest News Title and Paragragh Text. Assign the text to variables that you can reference later."
   ]
  },
  {
   "cell_type": "code",
   "execution_count": 3,
   "metadata": {},
   "outputs": [],
   "source": [
    "listArticleSlides = soup.find_all(\"div\",class_=\"list_text\")"
   ]
  },
  {
   "cell_type": "code",
   "execution_count": 4,
   "metadata": {},
   "outputs": [],
   "source": [
    "article_titles = [items.find_all(\"div\",class_=\"content_title\")[0].text for items in listArticleSlides]"
   ]
  },
  {
   "cell_type": "code",
   "execution_count": 5,
   "metadata": {},
   "outputs": [],
   "source": [
    "article_p = [items.find_all(\"div\",class_=\"article_teaser_body\")[0].text for items in listArticleSlides]"
   ]
  },
  {
   "cell_type": "code",
   "execution_count": 6,
   "metadata": {},
   "outputs": [
    {
     "name": "stdout",
     "output_type": "stream",
     "text": [
      "NASA’s First Mission to Study the Interior of Mars Awaits May 5 Launch: All systems are go for NASA’s next launch to the Red Planet. \n",
      "\n",
      "\n",
      "Vice President Pence Visits JPL, Previews NASA’s Next Mars Mission Launch: A week before NASA's next Mars launch, Vice President Mike Pence toured the birthplace of the InSight Mars Lander and numerous other past, present and future space missions.\n",
      "\n",
      "\n",
      "NASA Sets Sights on May 5 Launch of InSight to Mars: NASA’s next mission to Mars, InSight, is scheduled to launch Saturday, May 5, on a first-ever mission to study the heart of the Red Planet.\n",
      "\n",
      "\n",
      "Results of Heat Shield Testing: A post-test inspection of the composite structure for a heat shield to be used on the Mars 2020 mission revealed that a fracture occurred during structural testing.\n",
      "\n",
      "\n",
      "NASA Engineers Dream Big with Small Spacecraft: The first CubeSat mission to deep space will launch in May.\n",
      "\n",
      "\n",
      "Bound for Mars: Countdown to First Interplanetary Launch from California: On May 5, millions of Californians may witness the historic first interplanetary launch from America’s West Coast.\n",
      "\n",
      "\n",
      "NASA Invests in Visionary Technology : NASA is investing in technology concepts, including several from JPL, that may one day be used for future space exploration missions.\n",
      "\n",
      "\n",
      "NASA is Ready to Study the Heart of Mars: NASA is about to go on a journey to study the center of Mars.\n",
      "\n",
      "\n",
      "‘Marsquakes’ Could Shake Up Planetary Science: InSight, the next mission to the Red Planet, will use seismology to see into the depths of Mars.\n",
      "\n",
      "\n",
      "Mars Curiosity Celebrates Sol 2,000: NASA's Mars Curiosity rover just hit a new milestone: its two-thousandth Martian day on the Red Planet. An image mosaic taken recently offers a preview of what comes next.\n",
      "\n",
      "\n",
      "NASA Briefing on First Mission to Study Mars Interior: NASA’s next mission to Mars will be the topic of a media briefing Thursday, March 29, at JPL. The briefing will air live on NASA Television and the agency’s website.\n",
      "\n",
      "\n",
      "New 'AR' Mobile App Features 3-D NASA Spacecraft: NASA spacecraft travel to far-off destinations in space, but a new mobile app produced by NASA's Jet Propulsion Laboratory, Pasadena, California, brings spacecraft to users.\n",
      "\n",
      "\n",
      "NASA Mars Mission Tours California: Scientists and engineers with NASA's next mission to Mars will be touring California cities starting this month.\n",
      "\n",
      "\n",
      "Next NASA Mars Rover Reaches Key Manufacturing Milestone: NASA's Mars 2020 mission has begun the assembly, test and launch operations (ATLO) phase of its development, on track for a July 2020 launch to Mars.\n",
      "\n",
      "\n",
      "Witness First Mars Launch from West Coast: NASA invites digital creators to apply for social media credentials to cover the launch of the InSight mission to Mars, May 3-5, at California's Vandenberg Air Force Base.\n",
      "\n",
      "\n",
      "360 Video: Tour a Mars Robot Test Lab: Engineers are practicing operations for NASA's Mars InSight lander, which is launching this spring.\n",
      "\n",
      "\n",
      "NASA InSight Mission to Mars Arrives at Launch Site: NASA's InSight spacecraft has arrived at Vandenberg Air Force Base in central California to begin final preparations for a launch this May.\n",
      "\n",
      "\n",
      "Curiosity Tests a New Way to Drill on Mars: NASA's Mars Curiosity rover has conducted the first test of a new drilling technique on the Red Planet since its drill stopped working reliably.     \n",
      "\n",
      "\n",
      "Seven Ways Mars InSight is Different: NASA has a long and successful track record at Mars. Since 1965, it has flown by, orbited, landed and roved across the surface of the Red Planet. What can InSight -- planned for launch in May -- do that hasn’t been done before?\n",
      "\n",
      "\n",
      "Nearly a Decade After Mars Phoenix Landed, Another Look: A recent view from Mars orbit of the site where NASA's Phoenix Mars mission landed on far-northern Mars nearly a decade ago captures changes.\n",
      "\n",
      "\n",
      "Spacecraft Exits Safe Mode: Diagnostic work is the focus for resuming service and exiting safe standby status.\n",
      "\n",
      "\n",
      "5,000 Days on Mars; Solar-Powered Rover Approaching 5,000th Martian Dawn: The Sun will rise on NASA's solar-powered Mars rover Opportunity for the 5,000th time on Saturday, sending rays of energy to a robot that continues to provide revelations.\n",
      "\n",
      "\n",
      "Long-Lived Mars Rover Opportunity Keeps Finding Surprises: NASA's Mars Exploration Rover Opportunity keeps providing surprises about the Red Planet, most recently with observations of possible \"rock stripes.\"\n",
      "\n",
      "\n",
      "A Piece of Mars is Going Home: When it launches in 2020, NASA's next Mars rover will carry a chunk of Martian meteorite on board.\n",
      "\n",
      "\n",
      "Mars Reconnaissance Orbiter Preparing for Years Ahead: NASA's Mars Reconnaissance Orbiter (MRO) has begun extra stargazing to help the space agency accomplish advances in Mars exploration over the next decade.\n",
      "\n",
      "\n",
      "Tiny Crystal Shapes Get Close Look From Mars Rover: Star-shaped, tiny, dark bumps in the fine-layered bright bedrock of a Martian ridge are drawing close inspection by NASA's Curiosity Mars rover.\n",
      "\n",
      "\n",
      "NASA Tests Atomic Clock for Deep Space Navigation: Project could help spacecraft keep time more efficiently and allow ground stations to better track multiple satellites at once near crowded areas like Mars.\n",
      "\n",
      "\n",
      "Mount Sharp 'Photobombs' Mars Curiosity Rover: A new self-portrait of NASA's Curiosity Mars rover shows the vehicle on Vera Rubin Ridge.\n",
      "\n",
      "\n",
      "Vista From Mars Rover Looks Back Over Journey So Far: A panoramic image that NASA's Curiosity Mars rover took from a mountainside ridge provides a sweeping vista of key sites visited since the rover's 2012 landing, and the towering surroundings.\n",
      "\n",
      "\n",
      "NASA's Next Mars Lander Spreads its Solar Wings: NASA's next mission to Mars passed a key test Tuesday, extending the solar arrays that will power the InSight spacecraft once it lands on the Red Planet this November.\n",
      "\n",
      "\n",
      "Dust Storms Linked to Gas Escape from Mars Atmosphere: If Mars has a global dust storm in 2018, observations could aid understanding of its effects.\n",
      "\n",
      "\n",
      "Steep Slopes on Mars Reveal Structure of Buried Ice: Researchers using NASA's Mars Reconnaissance Orbiter have found eight sites where thick deposits of ice beneath Mars' surface are exposed.\n",
      "\n",
      "\n",
      "Mars Mission Sheds Light on Habitability of Distant Planets: How long might a rocky, Mars-like planet be habitable if it were orbiting a red dwarf star?\n",
      "\n",
      "\n",
      "NASA Mars Rover Team's Tilted Winter Strategy Works: NASA's senior Mars rover, Opportunity, has just passed the shortest-daylight weeks of the long Martian year with its solar panels in encouragingly clean condition for entering a potential dust-storm season in 2018.\n",
      "\n",
      "\n",
      "\n",
      "\n",
      "NASA Builds Its Next Mars Rover Mission: In just a few years, NASA's next Mars rover mission will be flying to the Red Planet.\n",
      "\n",
      "\n",
      "Recurring Martian Streaks: Flowing Sand, Not Water?: Seasonal dark streaks on Mars that previously were described as possible signs of flowing water have steep slopes that are better matches to dry flow processes...\n",
      "\n",
      "\n",
      "NASA's Mars 2020 Mission Performs First Supersonic Parachute Test: A 58-foot-tall Black Brant IX sounding rocket launches from NASA's Wallops Flight Facility on Oct. 4. This was the first test of the Mars 2020 mission's parachute-testing series, the Advanced Supersonic Parachute Inflation Research Experiment, or ASPIRE.\n",
      "\n",
      "\n",
      "More Than 2.4 Million Names Are Going to Mars: Last month, NASA invited members of the public to send their names to Mars. And the public responded loud and clear.\n",
      "\n",
      "\n",
      "Martian Ridge Brings Out Rover's Color Talents: On a part of \"Vera Rubin Ridge\" where rover-team researchers sought to determine whether dust coatings are hiding rocks' hematite content, the Mast Camera (Mastcam) on NASA's Curiosity Mars rover took this image of a rock surface that had been brushed with the rover's Dust Removal Tool.\n",
      "\n",
      "\n",
      "Next Mars Rover Will Have 23 'Eyes': When NASA's Mars Pathfinder touched down in 1997, it had five cameras: two on a mast that popped up from the lander, and three on NASA's first rover, Sojourner.\n",
      "\n",
      "\n"
     ]
    }
   ],
   "source": [
    "for title,p in zip(article_titles,article_p):\n",
    "    print(title+\": \"+p)\n",
    "    print('\\n')"
   ]
  },
  {
   "cell_type": "markdown",
   "metadata": {},
   "source": [
    "### JPL Mars Space Images - Featured Image"
   ]
  },
  {
   "cell_type": "markdown",
   "metadata": {},
   "source": [
    "* Visit the url for JPL's Featured Space Image [here](https://www.jpl.nasa.gov/spaceimages/?search=&category=Mars).\n",
    "\n",
    "* Use splinter to navigate the site and find the image url for the current Featured Mars Image and assign the url string to a variable called ```featured_image_url```.\n",
    "\n",
    "* Make sure to find the image url to the full size ```.jpg``` image.\n",
    "\n",
    "* Make sure to save a complete url string for this image."
   ]
  },
  {
   "cell_type": "code",
   "execution_count": 7,
   "metadata": {},
   "outputs": [],
   "source": [
    "\n",
    "browser = Browser()\n",
    "browser.visit('https://www.jpl.nasa.gov/spaceimages/?search=&category=Mars')\n",
    "browser.find_by_css(\".articles\").first.\\\n",
    "    find_by_tag(\"a\").first.\\\n",
    "    find_by_css(\".img\").first.\\\n",
    "    find_by_tag(\"img\").first.click()\n",
    "time.sleep(3)\n",
    "browser.find_link_by_partial_text(\"more info\").first.click()\n",
    "browser.find_by_css(\".main_image\").first.click()\n",
    "imgElement = browser.find_by_tag(\"img\")\n",
    "\n",
    "featured_image_url = imgElement.first['src']"
   ]
  },
  {
   "cell_type": "code",
   "execution_count": null,
   "metadata": {},
   "outputs": [],
   "source": []
  },
  {
   "cell_type": "code",
   "execution_count": 8,
   "metadata": {},
   "outputs": [
    {
     "name": "stdout",
     "output_type": "stream",
     "text": [
      "https://www.jpl.nasa.gov/spaceimages/images/largesize/PIA22384_hires.jpg\n",
      "\n",
      "shrinkToFit\n",
      "521\n",
      "965\n"
     ]
    }
   ],
   "source": [
    "print(featured_image_url+'\\n')\n",
    "print(imgElement.first['class'])\n",
    "print(imgElement.first['width'])\n",
    "print(imgElement.first['height'])"
   ]
  },
  {
   "cell_type": "code",
   "execution_count": 9,
   "metadata": {},
   "outputs": [],
   "source": [
    "browser.quit()"
   ]
  },
  {
   "cell_type": "markdown",
   "metadata": {},
   "source": [
    "### Mars Weather"
   ]
  },
  {
   "cell_type": "markdown",
   "metadata": {},
   "source": [
    "* Visit the Mars Weather twitter account [here](https://twitter.com/marswxreport?lang=en) and scrape the latest Mars weather tweet from the page. Save the tweet text for the weather report as a variable called ```mars_weather```.\n"
   ]
  },
  {
   "cell_type": "code",
   "execution_count": 10,
   "metadata": {},
   "outputs": [],
   "source": [
    "browser = Browser()\n",
    "browser.visit('https://twitter.com/marswxreport?lang=en')\n"
   ]
  },
  {
   "cell_type": "code",
   "execution_count": 11,
   "metadata": {},
   "outputs": [
    {
     "name": "stdout",
     "output_type": "stream",
     "text": [
      "Sol 2038 (May 01, 2018), Sunny, high -3C/26F, low -74C/-101F, pressure at 7.26 hPa, daylight 05:23-17:20\n"
     ]
    }
   ],
   "source": [
    "mars_weather = browser.find_by_id(\"stream-items-id\")[0].find_by_tag(\"li\").first.find_by_css('.js-tweet-text-container').first.text\n",
    "print(mars_weather)"
   ]
  },
  {
   "cell_type": "code",
   "execution_count": 12,
   "metadata": {},
   "outputs": [],
   "source": [
    "browser.quit()"
   ]
  },
  {
   "cell_type": "markdown",
   "metadata": {},
   "source": [
    "### Mars Facts"
   ]
  },
  {
   "cell_type": "markdown",
   "metadata": {},
   "source": [
    "* Visit the Mars Facts webpage [here](https://space-facts.com/mars/) and use Pandas to scrape the table containing facts about the planet including Diameter, Mass, etc.\n",
    "\n",
    "* Use Pandas to convert the data to a HTML table string."
   ]
  },
  {
   "cell_type": "code",
   "execution_count": 13,
   "metadata": {},
   "outputs": [],
   "source": [
    "\n",
    "dfMarsTable, = pd.read_html(\"https://space-facts.com/mars/\")"
   ]
  },
  {
   "cell_type": "code",
   "execution_count": 14,
   "metadata": {},
   "outputs": [],
   "source": [
    "dfMarsTable = dfMarsTable.rename(columns={0:\"Mars Facts\",1:\"Data\"})"
   ]
  },
  {
   "cell_type": "code",
   "execution_count": 15,
   "metadata": {},
   "outputs": [
    {
     "data": {
      "text/plain": [
       "'<table border=\"1\" class=\"dataframe\">\\n  <thead>\\n    <tr style=\"text-align: right;\">\\n      <th>Mars Facts</th>\\n      <th>Data</th>\\n    </tr>\\n  </thead>\\n  <tbody>\\n    <tr>\\n      <td>Equatorial Diameter:</td>\\n      <td>6,792 km</td>\\n    </tr>\\n    <tr>\\n      <td>Polar Diameter:</td>\\n      <td>6,752 km</td>\\n    </tr>\\n    <tr>\\n      <td>Mass:</td>\\n      <td>6.42 x 10^23 kg (10.7% Earth)</td>\\n    </tr>\\n    <tr>\\n      <td>Moons:</td>\\n      <td>2 (Phobos &amp; Deimos)</td>\\n    </tr>\\n    <tr>\\n      <td>Orbit Distance:</td>\\n      <td>227,943,824 km (1.52 AU)</td>\\n    </tr>\\n    <tr>\\n      <td>Orbit Period:</td>\\n      <td>687 days (1.9 years)</td>\\n    </tr>\\n    <tr>\\n      <td>Surface Temperature:</td>\\n      <td>-153 to 20 °C</td>\\n    </tr>\\n    <tr>\\n      <td>First Record:</td>\\n      <td>2nd millennium BC</td>\\n    </tr>\\n    <tr>\\n      <td>Recorded By:</td>\\n      <td>Egyptian astronomers</td>\\n    </tr>\\n  </tbody>\\n</table>'"
      ]
     },
     "execution_count": 15,
     "metadata": {},
     "output_type": "execute_result"
    }
   ],
   "source": [
    "dfMarsTable.to_html(index=False)"
   ]
  },
  {
   "cell_type": "markdown",
   "metadata": {},
   "source": [
    "### Mars Hemispheres"
   ]
  },
  {
   "cell_type": "markdown",
   "metadata": {},
   "source": [
    "* Visit the USGS Astrogeology site [here](https://astrogeology.usgs.gov/search/results?q=hemisphere+enhanced&k1=target&v1=Mars) to obtain high resolution images for each of Mars' hemispheres.\n",
    "\n",
    "* You will need to click each of the links to the hemispheres in order to find the image url to the full resolution image.\n",
    "\n",
    "* Save both the image url string for the full resolution hemipshere image, and the Hemisphere title containing the hemisphere name. Use a Python dictionary to store the data using the keys ```img_url``` and ```title```.\n",
    "\n",
    "* Append the dictionary with the image url string and the hemisphere title to a list. This list will contain one dictionary for each hemisphere."
   ]
  },
  {
   "cell_type": "code",
   "execution_count": 25,
   "metadata": {},
   "outputs": [],
   "source": [
    "\n",
    "browser = Browser()\n",
    "browser.visit('https://astrogeology.usgs.gov/search/results?q=hemisphere+enhanced&k1=target&v1=Mars')\n",
    "\n"
   ]
  },
  {
   "cell_type": "code",
   "execution_count": 26,
   "metadata": {},
   "outputs": [],
   "source": [
    "urlsHemispheres = [item.find_by_tag(\"a\")[0]['href'] for item in browser.find_by_css(\".description\")]\n",
    "hemisphereTitles = [item.find_by_tag(\"h3\")[0].text[:-9] for item in browser.find_by_css(\".description\")]"
   ]
  },
  {
   "cell_type": "code",
   "execution_count": 27,
   "metadata": {},
   "outputs": [
    {
     "name": "stdout",
     "output_type": "stream",
     "text": [
      "['https://astrogeology.usgs.gov/search/map/Mars/Viking/cerberus_enhanced', 'https://astrogeology.usgs.gov/search/map/Mars/Viking/schiaparelli_enhanced', 'https://astrogeology.usgs.gov/search/map/Mars/Viking/syrtis_major_enhanced', 'https://astrogeology.usgs.gov/search/map/Mars/Viking/valles_marineris_enhanced']\n",
      "['Cerberus Hemisphere', 'Schiaparelli Hemisphere', 'Syrtis Major Hemisphere', 'Valles Marineris Hemisphere']\n"
     ]
    }
   ],
   "source": [
    "print(urlsHemispheres)\n",
    "print(hemisphereTitles)"
   ]
  },
  {
   "cell_type": "code",
   "execution_count": 29,
   "metadata": {},
   "outputs": [],
   "source": [
    "hemisphere_image_urls=[]\n",
    "\n",
    "for urlSelected,titleSelected in zip(urlsHemispheres,hemisphereTitles):\n",
    "    browser.visit(urlSelected)\n",
    "    time.sleep(2)\n",
    "    browser.find_by_css(\".downloads\")[0].find_by_text(\"Sample\")\n",
    "    hemisphere_image_urls.append({'title':titleSelected,'img_url':browser.find_by_css(\".downloads\")[0].find_by_text(\"Sample\")[0]['href']})\n",
    "    "
   ]
  },
  {
   "cell_type": "code",
   "execution_count": 30,
   "metadata": {},
   "outputs": [
    {
     "name": "stdout",
     "output_type": "stream",
     "text": [
      "[\n",
      "  {\n",
      "    \"title\": \"Cerberus Hemisphere\",\n",
      "    \"img_url\": \"http://astropedia.astrogeology.usgs.gov/download/Mars/Viking/cerberus_enhanced.tif/full.jpg\"\n",
      "  },\n",
      "  {\n",
      "    \"title\": \"Schiaparelli Hemisphere\",\n",
      "    \"img_url\": \"http://astropedia.astrogeology.usgs.gov/download/Mars/Viking/schiaparelli_enhanced.tif/full.jpg\"\n",
      "  },\n",
      "  {\n",
      "    \"title\": \"Syrtis Major Hemisphere\",\n",
      "    \"img_url\": \"http://astropedia.astrogeology.usgs.gov/download/Mars/Viking/syrtis_major_enhanced.tif/full.jpg\"\n",
      "  },\n",
      "  {\n",
      "    \"title\": \"Valles Marineris Hemisphere\",\n",
      "    \"img_url\": \"http://astropedia.astrogeology.usgs.gov/download/Mars/Viking/valles_marineris_enhanced.tif/full.jpg\"\n",
      "  }\n",
      "]\n"
     ]
    }
   ],
   "source": [
    "print(json.dumps(hemisphere_image_urls, indent=2,sort_keys=False))"
   ]
  },
  {
   "cell_type": "code",
   "execution_count": 24,
   "metadata": {},
   "outputs": [],
   "source": [
    "browser.quit()"
   ]
  },
  {
   "cell_type": "code",
   "execution_count": null,
   "metadata": {},
   "outputs": [],
   "source": []
  }
 ],
 "metadata": {
  "kernelspec": {
   "display_name": "Python 3",
   "language": "python",
   "name": "python3"
  },
  "language_info": {
   "codemirror_mode": {
    "name": "ipython",
    "version": 3
   },
   "file_extension": ".py",
   "mimetype": "text/x-python",
   "name": "python",
   "nbconvert_exporter": "python",
   "pygments_lexer": "ipython3",
   "version": "3.6.4"
  }
 },
 "nbformat": 4,
 "nbformat_minor": 2
}
